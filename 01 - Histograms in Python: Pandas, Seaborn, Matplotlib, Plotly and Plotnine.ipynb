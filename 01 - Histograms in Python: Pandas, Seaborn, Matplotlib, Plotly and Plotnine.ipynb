{
 "cells": [
  {
   "cell_type": "markdown",
   "id": "4ece7d05",
   "metadata": {},
   "source": [
    "# Data Visualization in Python\n",
    "\n",
    "## Histograms in Python: Pandas, Seaborn, Matplotlib, Plotly and Plotnine\n",
    "\n",
    "Libraries covered:\n",
    "1. pandas.DataFrame.plot()\n",
    "2. Matplotlib\n",
    "3. Seaborn\n",
    "4. Plotly\n",
    "5. Plotnine"
   ]
  },
  {
   "cell_type": "code",
   "execution_count": null,
   "id": "630f826c",
   "metadata": {
    "hide_input": false
   },
   "outputs": [],
   "source": [
    "import pandas as pd\n",
    "import numpy as np\n",
    "\n",
    "import plotly.express as px\n",
    "import seaborn as sns\n",
    "import matplotlib.pyplot as plt\n",
    "from plotnine import *\n",
    "\n",
    "pd.options.display.max_columns = 500\n",
    "\n",
    "# Read the data and keep info of 9 states\n",
    "df = pd.read_csv(\"https://raw.githubusercontent.com/martinbel/datasets/master/unemployment.csv\")\n",
    "keep_states = ['SC', 'CA', 'FL', 'NY', 'WI', 'WA', 'NJ', 'IL', 'TX']\n",
    "df = df.query('state == @keep_states')\n",
    "\n",
    "# show top 3 rows of each state\n",
    "df.groupby(\"state\").head(3).head(9)"
   ]
  },
  {
   "cell_type": "markdown",
   "id": "d8d14c70",
   "metadata": {},
   "source": [
    "# 1. Pandas Plotting method\n",
    "\n",
    "Generally what I would try first if I'm doing EDA or Sharing static plots. "
   ]
  },
  {
   "cell_type": "code",
   "execution_count": null,
   "id": "8872330a",
   "metadata": {
    "hide_input": false
   },
   "outputs": [],
   "source": [
    "# Change the matplotlib default stype to seaborn\n",
    "plt.style.use('seaborn')\n",
    "# plt.style.use('ggplot') similar to R ggplot style\n",
    "\n",
    "# I use this a lot for quick plots\n",
    "df.unemployment.hist(bins=30);"
   ]
  },
  {
   "cell_type": "code",
   "execution_count": null,
   "id": "ea062b01",
   "metadata": {
    "hide_input": false
   },
   "outputs": [],
   "source": [
    "# Quite good for how simple it is\n",
    "df.hist(column='unemployment', by='state', bins=20);\n",
    "plt.tight_layout()"
   ]
  },
  {
   "cell_type": "markdown",
   "id": "342ca72c",
   "metadata": {},
   "source": [
    "# 2. Matplotlib\n",
    "\n",
    "The most flexible option. But involves writing a lot more code!"
   ]
  },
  {
   "cell_type": "code",
   "execution_count": null,
   "id": "73bfa3ea",
   "metadata": {
    "hide_input": true
   },
   "outputs": [],
   "source": [
    "group_values = list(df.state.unique())\n",
    "group_values"
   ]
  },
  {
   "cell_type": "code",
   "execution_count": null,
   "id": "c515cd2b",
   "metadata": {
    "hide_input": true
   },
   "outputs": [],
   "source": [
    "# set number of columns in the plot\n",
    "ncols = 3\n",
    "\n",
    "# calculate number of rows in the plot\n",
    "nrows = len(group_values) // ncols + (len(group_values) % ncols > 0)\n",
    "\n",
    "# Define the plot \n",
    "plt.figure(figsize = (9, 9))\n",
    "plt.subplots_adjust(hspace=0.25)\n",
    "plt.suptitle(\"Unemployment Rate by State\", fontsize=16, y=0.95)\n",
    "\n",
    "for n, col in enumerate(group_values):\n",
    "    # add a new subplot at each iteration using nrows and cols\n",
    "    ax = plt.subplot(nrows, ncols, n + 1)\n",
    "    \n",
    "    # Filter the dataframe data for each state\n",
    "    df_temp = df.query(\"state == @col\")\n",
    "    df_temp.unemployment.hist(ax=ax, bins=30)\n",
    "    \n",
    "    # Let's add some vertical lines with mean, and meadian\n",
    "    median_x = df_temp.unemployment.median()\n",
    "    _ = ax.vlines(x=[median_x], ymin=0, ymax=70, colors=['r']);\n",
    "    \n",
    "    # Add annotation\n",
    "    plt.text(median_x, 70, 'Mean')    \n",
    "\n",
    "    # chart formatting\n",
    "    ax.set_title(col)\n",
    "    ax.set_xlabel(\"\")"
   ]
  },
  {
   "cell_type": "markdown",
   "id": "9467eae0",
   "metadata": {},
   "source": [
    "# 3. Seaborn\n",
    "\n",
    "Great trade-off between simplicity and advanced features. \n",
    "\n",
    "- Allows independent Axis in sub-plots. \n",
    "- I can easily add a kernel density\n",
    "- Similar API for all plots, that makes it very intuitive"
   ]
  },
  {
   "cell_type": "code",
   "execution_count": null,
   "id": "d436809b",
   "metadata": {
    "hide_input": true
   },
   "outputs": [],
   "source": [
    "# The data is already in long format\n",
    "df.groupby(\"state\").head(3).head(9)"
   ]
  },
  {
   "cell_type": "code",
   "execution_count": null,
   "id": "408a1405",
   "metadata": {
    "hide_input": true
   },
   "outputs": [],
   "source": [
    "sns.set(style='darkgrid')\n",
    "\n",
    "g = sns.FacetGrid(df, \n",
    "                  col='state',                # facet col variable\n",
    "                  col_wrap=3,                 # define nbr of subplots per row\n",
    "                  sharex=False, sharey=False   # Define which axes are shared\n",
    "                 )\n",
    "g.map(sns.histplot, \n",
    "      'unemployment', \n",
    "      kde=True,\n",
    "      binwidth=0.5             # Width of each bin\n",
    "     )\n",
    "\n",
    "plt.figure(figsize=(7,7))"
   ]
  },
  {
   "cell_type": "code",
   "execution_count": null,
   "id": "0752fd75",
   "metadata": {},
   "outputs": [],
   "source": [
    "# Not exactly a histogram but also a possibility to represent the distribution\n",
    "# This is a Kernet Density plot\n",
    "sns.kdeplot(df, x='unemployment', hue='state')"
   ]
  },
  {
   "cell_type": "markdown",
   "id": "85816390",
   "metadata": {},
   "source": [
    "# 4. Plotly-Express\n",
    "\n",
    "It's also a good trade-off between simplicity and advanced features. \n",
    "\n",
    "- The advantage of plotly is it allows to make interactive plots. \n",
    "- This can be very useful if you are developing interactive applications"
   ]
  },
  {
   "cell_type": "code",
   "execution_count": null,
   "id": "2dca2c3e",
   "metadata": {
    "hide_input": true
   },
   "outputs": [],
   "source": [
    "px.histogram(df, \n",
    "             x='unemployment', \n",
    "             #color='state', \n",
    "             facet_col='state', \n",
    "             facet_col_wrap=3,\n",
    "             histnorm='probability',\n",
    "             nbins=50, \n",
    "             width=800, height=800\n",
    "            )"
   ]
  },
  {
   "cell_type": "markdown",
   "id": "16170b44",
   "metadata": {},
   "source": [
    "# 5. Plotnine\n",
    "\n",
    "Plotnine is a ggplot2 port for Python. It's a declarative type of library where you add layers to the plot. \n",
    "\n",
    "It's very easy to use and intuitive, similar to writing a recipe. \n",
    "\n",
    "In this case, it allows to easily control the scales of each subplot. "
   ]
  },
  {
   "cell_type": "code",
   "execution_count": null,
   "id": "bdb204ca",
   "metadata": {
    "hide_input": true
   },
   "outputs": [],
   "source": [
    "(ggplot(df, aes(x='unemployment')) + \n",
    " geom_histogram() +\n",
    " facet_wrap(\"~ state\", scales='y_free') +\n",
    " theme(figure_size=(8, 8)) +\n",
    " xlab(\"Unemployment\") +\n",
    " ggtitle(\"Histogram of Unemployment by State\")\n",
    ")"
   ]
  },
  {
   "cell_type": "code",
   "execution_count": null,
   "id": "caa0da0d",
   "metadata": {},
   "outputs": [],
   "source": []
  },
  {
   "cell_type": "code",
   "execution_count": null,
   "id": "e4519d0d",
   "metadata": {},
   "outputs": [],
   "source": []
  },
  {
   "cell_type": "code",
   "execution_count": null,
   "id": "30c193b7",
   "metadata": {},
   "outputs": [],
   "source": []
  },
  {
   "cell_type": "code",
   "execution_count": null,
   "id": "0758179c",
   "metadata": {},
   "outputs": [],
   "source": []
  }
 ],
 "metadata": {
  "hide_input": true,
  "kernelspec": {
   "display_name": "Python [conda env:tabular]",
   "language": "python",
   "name": "conda-env-tabular-py"
  },
  "language_info": {
   "codemirror_mode": {
    "name": "ipython",
    "version": 3
   },
   "file_extension": ".py",
   "mimetype": "text/x-python",
   "name": "python",
   "nbconvert_exporter": "python",
   "pygments_lexer": "ipython3",
   "version": "3.9.16"
  }
 },
 "nbformat": 4,
 "nbformat_minor": 5
}
